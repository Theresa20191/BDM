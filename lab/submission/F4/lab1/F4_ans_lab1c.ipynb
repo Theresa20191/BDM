{
  "nbformat": 4,
  "nbformat_minor": 0,
  "metadata": {
    "colab": {
      "provenance": [],
      "include_colab_link": true
    },
    "kernelspec": {
      "name": "python3",
      "display_name": "Python 3"
    },
    "language_info": {
      "name": "python"
    }
  },
  "cells": [
    {
      "cell_type": "markdown",
      "metadata": {
        "id": "view-in-github",
        "colab_type": "text"
      },
      "source": [
        "<a href=\"https://colab.research.google.com/github/Theresa20191/BDM/blob/main/lab/submission/F4/lab1/F4_ans_lab1c.ipynb\" target=\"_parent\"><img src=\"https://colab.research.google.com/assets/colab-badge.svg\" alt=\"Open In Colab\"/></a>"
      ]
    },
    {
      "cell_type": "markdown",
      "source": [
        "# Lab 1c - Understanding Your Data"
      ],
      "metadata": {
        "id": "sc-InfyoiPNN"
      }
    },
    {
      "cell_type": "markdown",
      "source": [
        "Please use the [**Open Food Facts**](https://www.kaggle.com/openfoodfacts/world-food-facts/data) dataset for this exercise."
      ],
      "metadata": {
        "id": "WMgvakujiaan"
      }
    },
    {
      "cell_type": "markdown",
      "source": [
        "### Step 1. Download the dataset to your computer and unzip it."
      ],
      "metadata": {
        "id": "pziuucAdic4O"
      }
    },
    {
      "cell_type": "markdown",
      "source": [
        "### Step 2. Use the tsv file and assign it to a dataframe called food"
      ],
      "metadata": {
        "id": "dPQovSNrirmT"
      }
    },
    {
      "cell_type": "code",
      "source": [
        "!pip install pandas\n",
        "!pip install numpy"
      ],
      "metadata": {
        "colab": {
          "base_uri": "https://localhost:8080/"
        },
        "id": "z-CScy_Scm85",
        "outputId": "1f99e584-cb36-4c34-92f3-4b437bf00e47"
      },
      "execution_count": 5,
      "outputs": [
        {
          "output_type": "stream",
          "name": "stdout",
          "text": [
            "Requirement already satisfied: pandas in /usr/local/lib/python3.10/dist-packages (1.5.3)\n",
            "Requirement already satisfied: python-dateutil>=2.8.1 in /usr/local/lib/python3.10/dist-packages (from pandas) (2.8.2)\n",
            "Requirement already satisfied: pytz>=2020.1 in /usr/local/lib/python3.10/dist-packages (from pandas) (2023.3.post1)\n",
            "Requirement already satisfied: numpy>=1.21.0 in /usr/local/lib/python3.10/dist-packages (from pandas) (1.23.5)\n",
            "Requirement already satisfied: six>=1.5 in /usr/local/lib/python3.10/dist-packages (from python-dateutil>=2.8.1->pandas) (1.16.0)\n",
            "Requirement already satisfied: numpy in /usr/local/lib/python3.10/dist-packages (1.23.5)\n"
          ]
        }
      ]
    },
    {
      "cell_type": "code",
      "source": [
        "from google.colab import drive\n",
        "drive.mount('/content/drive')"
      ],
      "metadata": {
        "colab": {
          "base_uri": "https://localhost:8080/"
        },
        "id": "eoN-IIckd3yV",
        "outputId": "6cbe4333-811f-4c01-96f7-0ea0b715a099"
      },
      "execution_count": 6,
      "outputs": [
        {
          "output_type": "stream",
          "name": "stdout",
          "text": [
            "Mounted at /content/drive\n"
          ]
        }
      ]
    },
    {
      "cell_type": "code",
      "source": [
        "import pandas as pd\n",
        "file_path = '/content/drive/MyDrive/Colab Notebooks/en.openfoodfacts.org.products.tsv'\n",
        "food = pd.read_csv(file_path, sep=\"\\t\")"
      ],
      "metadata": {
        "colab": {
          "base_uri": "https://localhost:8080/"
        },
        "id": "kbvzufO2cmUW",
        "outputId": "e3606859-c14b-43f0-bef7-2d53062b3a07"
      },
      "execution_count": 7,
      "outputs": [
        {
          "output_type": "stream",
          "name": "stderr",
          "text": [
            "<ipython-input-7-5e3f3b7677e1>:3: DtypeWarning: Columns (0,3,5,19,20,24,25,26,27,28,36,37,38,39,48) have mixed types. Specify dtype option on import or set low_memory=False.\n",
            "  food = pd.read_csv(file_path, sep=\"\\t\")\n"
          ]
        }
      ]
    },
    {
      "cell_type": "markdown",
      "source": [
        "### Step 3. See the first 5 entries"
      ],
      "metadata": {
        "id": "c1WmZJQYi0JU"
      }
    },
    {
      "cell_type": "code",
      "source": [
        "print(food.head(5))"
      ],
      "metadata": {
        "colab": {
          "base_uri": "https://localhost:8080/"
        },
        "id": "ATIbxnqLdB5E",
        "outputId": "1cbafa20-a40a-444b-bc2f-3c18cdce088d"
      },
      "execution_count": 8,
      "outputs": [
        {
          "output_type": "stream",
          "name": "stdout",
          "text": [
            "    code                                                url  \\\n",
            "0   3087  http://world-en.openfoodfacts.org/product/0000...   \n",
            "1   4530  http://world-en.openfoodfacts.org/product/0000...   \n",
            "2   4559  http://world-en.openfoodfacts.org/product/0000...   \n",
            "3  16087  http://world-en.openfoodfacts.org/product/0000...   \n",
            "4  16094  http://world-en.openfoodfacts.org/product/0000...   \n",
            "\n",
            "                      creator   created_t      created_datetime  \\\n",
            "0  openfoodfacts-contributors  1474103866  2016-09-17T09:17:46Z   \n",
            "1             usda-ndb-import  1489069957  2017-03-09T14:32:37Z   \n",
            "2             usda-ndb-import  1489069957  2017-03-09T14:32:37Z   \n",
            "3             usda-ndb-import  1489055731  2017-03-09T10:35:31Z   \n",
            "4             usda-ndb-import  1489055653  2017-03-09T10:34:13Z   \n",
            "\n",
            "  last_modified_t last_modified_datetime                    product_name  \\\n",
            "0      1474103893   2016-09-17T09:18:13Z              Farine de blé noir   \n",
            "1      1489069957   2017-03-09T14:32:37Z  Banana Chips Sweetened (Whole)   \n",
            "2      1489069957   2017-03-09T14:32:37Z                         Peanuts   \n",
            "3      1489055731   2017-03-09T10:35:31Z          Organic Salted Nut Mix   \n",
            "4      1489055653   2017-03-09T10:34:13Z                 Organic Polenta   \n",
            "\n",
            "  generic_name quantity  ... fruits-vegetables-nuts_100g  \\\n",
            "0          NaN      1kg  ...                         NaN   \n",
            "1          NaN      NaN  ...                         NaN   \n",
            "2          NaN      NaN  ...                         NaN   \n",
            "3          NaN      NaN  ...                         NaN   \n",
            "4          NaN      NaN  ...                         NaN   \n",
            "\n",
            "  fruits-vegetables-nuts-estimate_100g collagen-meat-protein-ratio_100g  \\\n",
            "0                                  NaN                              NaN   \n",
            "1                                  NaN                              NaN   \n",
            "2                                  NaN                              NaN   \n",
            "3                                  NaN                              NaN   \n",
            "4                                  NaN                              NaN   \n",
            "\n",
            "  cocoa_100g chlorophyl_100g carbon-footprint_100g nutrition-score-fr_100g  \\\n",
            "0        NaN             NaN                   NaN                     NaN   \n",
            "1        NaN             NaN                   NaN                    14.0   \n",
            "2        NaN             NaN                   NaN                     0.0   \n",
            "3        NaN             NaN                   NaN                    12.0   \n",
            "4        NaN             NaN                   NaN                     NaN   \n",
            "\n",
            "  nutrition-score-uk_100g glycemic-index_100g water-hardness_100g  \n",
            "0                     NaN                 NaN                 NaN  \n",
            "1                    14.0                 NaN                 NaN  \n",
            "2                     0.0                 NaN                 NaN  \n",
            "3                    12.0                 NaN                 NaN  \n",
            "4                     NaN                 NaN                 NaN  \n",
            "\n",
            "[5 rows x 163 columns]\n"
          ]
        }
      ]
    },
    {
      "cell_type": "markdown",
      "source": [
        "### Step 4. What is the number of observations in the dataset?"
      ],
      "metadata": {
        "id": "kKgKHoZei441"
      }
    },
    {
      "cell_type": "code",
      "source": [
        "num_observations = food.shape[0]\n",
        "print(f\"The number of observations in the dataset is: {num_observations}\")\n"
      ],
      "metadata": {
        "colab": {
          "base_uri": "https://localhost:8080/"
        },
        "id": "fzJVlnk5ibkk",
        "outputId": "77e054fe-736b-4fa7-abcb-d2db9cd3d24e"
      },
      "execution_count": 13,
      "outputs": [
        {
          "output_type": "stream",
          "name": "stdout",
          "text": [
            "The number of observations in the dataset is: 356027\n"
          ]
        }
      ]
    },
    {
      "cell_type": "markdown",
      "source": [
        "### Step 5. What is the number of columns in the dataset?"
      ],
      "metadata": {
        "id": "Htbxk0Xxjfwt"
      }
    },
    {
      "cell_type": "code",
      "source": [
        "food.info()\n",
        "\n",
        "Number_of_column = food.shape[1]\n",
        "print(f\"Number of Columns: {Number_of_column}\")"
      ],
      "metadata": {
        "colab": {
          "base_uri": "https://localhost:8080/"
        },
        "id": "V0yOkDp7jgPH",
        "outputId": "a481a40a-9c3f-4302-f164-c611bfbfe704"
      },
      "execution_count": 14,
      "outputs": [
        {
          "output_type": "stream",
          "name": "stdout",
          "text": [
            "<class 'pandas.core.frame.DataFrame'>\n",
            "RangeIndex: 356027 entries, 0 to 356026\n",
            "Columns: 163 entries, code to water-hardness_100g\n",
            "dtypes: float64(107), object(56)\n",
            "memory usage: 442.8+ MB\n",
            "Number of Columns: 163\n"
          ]
        }
      ]
    },
    {
      "cell_type": "markdown",
      "source": [
        "### Step 6. Print the name of all the columns."
      ],
      "metadata": {
        "id": "GgnrJCI7jyXL"
      }
    },
    {
      "cell_type": "code",
      "source": [
        "print(food.columns)"
      ],
      "metadata": {
        "colab": {
          "base_uri": "https://localhost:8080/"
        },
        "id": "oCbJnn4MkGpr",
        "outputId": "84324a26-9d1f-4f38-9d09-c5f3c75ede21"
      },
      "execution_count": 15,
      "outputs": [
        {
          "output_type": "stream",
          "name": "stdout",
          "text": [
            "Index(['code', 'url', 'creator', 'created_t', 'created_datetime',\n",
            "       'last_modified_t', 'last_modified_datetime', 'product_name',\n",
            "       'generic_name', 'quantity',\n",
            "       ...\n",
            "       'fruits-vegetables-nuts_100g', 'fruits-vegetables-nuts-estimate_100g',\n",
            "       'collagen-meat-protein-ratio_100g', 'cocoa_100g', 'chlorophyl_100g',\n",
            "       'carbon-footprint_100g', 'nutrition-score-fr_100g',\n",
            "       'nutrition-score-uk_100g', 'glycemic-index_100g',\n",
            "       'water-hardness_100g'],\n",
            "      dtype='object', length=163)\n"
          ]
        }
      ]
    },
    {
      "cell_type": "markdown",
      "source": [
        "### Step 7. What is the name of 105th column?"
      ],
      "metadata": {
        "id": "Z4_0yQ0xj0Tb"
      }
    },
    {
      "cell_type": "code",
      "source": [
        "column_name_105th = food.columns[104]\n",
        "\n",
        "print(f\"The name of the 105th column is: {column_name_105th}\")\n"
      ],
      "metadata": {
        "colab": {
          "base_uri": "https://localhost:8080/"
        },
        "id": "Q4R4breNlH_r",
        "outputId": "664ec220-9528-4296-b593-839d3f3e1cda"
      },
      "execution_count": 20,
      "outputs": [
        {
          "output_type": "stream",
          "name": "stdout",
          "text": [
            "The name of the 105th column is: -glucose_100g\n"
          ]
        }
      ]
    },
    {
      "cell_type": "markdown",
      "source": [
        "### Step 8. What is the type of the observations of the 105th column?"
      ],
      "metadata": {
        "id": "Oh03U69Fj0at"
      }
    },
    {
      "cell_type": "code",
      "source": [
        "column_105_data_type = food.iloc[:, 104].dtype\n",
        "\n",
        "print(f\"The data type of the observations in the 105th column is: {column_105_data_type}\")\n"
      ],
      "metadata": {
        "colab": {
          "base_uri": "https://localhost:8080/"
        },
        "id": "Y_3ijbjmlQrL",
        "outputId": "fc658788-ef68-42bc-a286-7604704a9e59"
      },
      "execution_count": 21,
      "outputs": [
        {
          "output_type": "stream",
          "name": "stdout",
          "text": [
            "The data type of the observations in the 105th column is: float64\n"
          ]
        }
      ]
    },
    {
      "cell_type": "markdown",
      "source": [
        "### Step 9. How is the dataset indexed?"
      ],
      "metadata": {
        "id": "_imLMTzDj0oK"
      }
    },
    {
      "cell_type": "code",
      "source": [
        "# Check the index type\n",
        "if food.index.equals(pd.RangeIndex(start=0, stop=len(food))):\n",
        "    print(\"The dataset is indexed using the default integer-based row index.\")\n",
        "else:\n",
        "    print(\"The dataset is indexed using one or more user-defined columns as the index.\")\n"
      ],
      "metadata": {
        "colab": {
          "base_uri": "https://localhost:8080/"
        },
        "id": "e1nS45W7lYns",
        "outputId": "634b9ca4-7c2b-4e2c-ba0f-7902f2b8cf8a"
      },
      "execution_count": 28,
      "outputs": [
        {
          "output_type": "stream",
          "name": "stdout",
          "text": [
            "The dataset is indexed using the default integer-based row index.\n"
          ]
        }
      ]
    },
    {
      "cell_type": "markdown",
      "source": [
        "### Step 10. What is the product name of the 19th observation?"
      ],
      "metadata": {
        "id": "CRRQ0pE9j8tX"
      }
    },
    {
      "cell_type": "code",
      "source": [
        "product_name_19th_observation = food.loc[18, \"product_name\"]\n",
        "print(f\"The product name of the 19th observation is: {product_name_19th_observation}\")\n"
      ],
      "metadata": {
        "colab": {
          "base_uri": "https://localhost:8080/"
        },
        "id": "DSCgXMVHkE5-",
        "outputId": "0693d773-3d6e-40c4-ac67-67486df5f162"
      },
      "execution_count": 29,
      "outputs": [
        {
          "output_type": "stream",
          "name": "stdout",
          "text": [
            "The product name of the 19th observation is: Lotus Organic Brown Jasmine Rice\n"
          ]
        }
      ]
    },
    {
      "cell_type": "code",
      "source": [],
      "metadata": {
        "id": "NJYZ0_1IXE5Q"
      },
      "execution_count": null,
      "outputs": []
    }
  ]
}